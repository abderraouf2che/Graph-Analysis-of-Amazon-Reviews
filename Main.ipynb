{
 "cells": [
  {
   "cell_type": "code",
   "execution_count": 1,
   "metadata": {},
   "outputs": [],
   "source": [
    "import json\n",
    "import gzip\n",
    " \n",
    "reviews=[]    \n",
    "with gzip.open(\"reviews_Electronics_5.json.gz\", \"rb\") as f:\n",
    "    for line in f:\n",
    "        reviews.append(json.loads(line))\n",
    "    \n",
    "    "
   ]
  },
  {
   "cell_type": "code",
   "execution_count": null,
   "metadata": {},
   "outputs": [],
   "source": []
  },
  {
   "cell_type": "code",
   "execution_count": 2,
   "metadata": {},
   "outputs": [
    {
     "data": {
      "text/plain": [
       "{'neg': 0.064, 'neu': 0.87, 'pos': 0.066, 'compound': -0.2774}"
      ]
     },
     "execution_count": 2,
     "metadata": {},
     "output_type": "execute_result"
    }
   ],
   "source": [
    "import re\n",
    "\n",
    "from vaderSentiment.vaderSentiment import SentimentIntensityAnalyzer\n",
    "analyser = SentimentIntensityAnalyzer()\n",
    "\n",
    "def clean(sent):\n",
    "    sent=sent.lower()\n",
    "    sent=re.sub('@[^\\s]+','',sent)\n",
    "    sent=re.sub('[/(){}\\[\\]\\|@,;]','',sent)\n",
    "    sent=re.sub('[^0-9a-z #+_]',' ',sent)\n",
    "    return sent\n",
    "\n"
   ]
  },
  {
   "cell_type": "code",
   "execution_count": 3,
   "metadata": {},
   "outputs": [],
   "source": [
    "import pandas as pd\n",
    "import networkx as nx\n",
    "thresh_dist=0.7666 #Gotten from the function"
   ]
  },
  {
   "cell_type": "code",
   "execution_count": 4,
   "metadata": {},
   "outputs": [
    {
     "data": {
      "text/plain": [
       "EdgeDataView([(1, 2, {'weight': 2})])"
      ]
     },
     "execution_count": 4,
     "metadata": {},
     "output_type": "execute_result"
    }
   ],
   "source": [
    "import numpy as np\n",
    "import nltk\n",
    "from vaderSentiment.vaderSentiment import SentimentIntensityAnalyzer\n",
    "import time\n",
    "analyser = SentimentIntensityAnalyzer()\n",
    "\n",
    "G=nx.Graph()\n",
    "\n",
    "\n",
    "k=5\n",
    "epsilon=0.02\n",
    "rows=int(len(reviews[0:10000])/5)\n",
    "edit_dist=np.zeros([rows,10])\n",
    "\n",
    "\n",
    "start=time.time()\n",
    "for r in range(rows):\n",
    "    \n",
    "    for i in range(5):\n",
    "        for j in range(5):\n",
    "                if i>j:\n",
    "                    sent1=clean(reviews[k+i]['reviewText'])\n",
    "                    sent2=clean(reviews[k+j]['reviewText'])\n",
    "                    max_l=max(len(sent1),len(sent2))\n",
    "                    \n",
    "                    if j==0:\n",
    "                        edit_dist[r][i-1]=nltk.edit_distance(sent1,sent2)/max_l\n",
    "                        temp=edit_dist[r][i-1]\n",
    "                    elif j==1:\n",
    "                        edit_dist[r][i+j+1]=nltk.edit_distance(sent1,sent2)/max_l\n",
    "                        temp=edit_dist[r][i+j+1]\n",
    "                    elif j==2:\n",
    "                        edit_dist[r][i+j+2]=nltk.edit_distance(sent1,sent2)/max_l\n",
    "                        temp=edit_dist[r][i+j+2]\n",
    "                    else:\n",
    "                        edit_dist[r][9]=nltk.edit_distance(sent1,sent2)/max_l\n",
    "                        temp=edit_dist[r][9]\n",
    "\n",
    "                    score1 = analyser.polarity_scores(sent1)\n",
    "                    score2 = analyser.polarity_scores(sent2)\n",
    "        #             print(score1,score2)\n",
    "                    if temp<thresh_dist:\n",
    "                        if abs(score1['neg']-score2['neg'])==0 or abs(score1['pos']-score2['pos'])==0:\n",
    "    #                         a=data[data.reviewer==reviews[k+i]['reviewerID']]\n",
    "    #                         b=data[data.reviewer==reviews[k+j]['reviewerID']]\n",
    "\n",
    "\n",
    "    #                         n_prods=0\n",
    "    #                         for s in a['ProductIDs']:\n",
    "    #                             for t in b['ProductIDs']:\n",
    "    #                                 if s==t:\n",
    "    #                                     n_prods+=1\n",
    "                            u=reviews[k+i]['reviewerID']\n",
    "                            v=reviews[k+j]['reviewerID']\n",
    "                            print(time.time()-start)\n",
    "                            try:\n",
    "\n",
    "                                G[u][v]['weight']=G[u][v]['weight']+1 \n",
    "    #                         G.add_edge(reviews[k+i]['reviewerID'],reviews[k+j]['reviewerID'],weight=n_prods)\n",
    "                            except:\n",
    "                                G.add_edge(u,v,weight=1)\n",
    "\n",
    "                            print(G[u][v]['weight'])\n",
    "                        \n",
    "        \n",
    "    k+=5\n",
    "            \n",
    "print(time.time()-start)\n"
   ]
  },
  {
   "cell_type": "code",
   "execution_count": 7,
   "metadata": {},
   "outputs": [
    {
     "name": "stderr",
     "output_type": "stream",
     "text": [
      "/anaconda3/lib/python3.6/site-packages/matplotlib/cbook/deprecation.py:107: MatplotlibDeprecationWarning: Adding an axes using the same arguments as a previous axes currently reuses the earlier instance.  In a future version, a new instance will always be created and returned.  Meanwhile, this warning can be suppressed, and the future behavior ensured, by passing a unique label to each axes instance.\n",
      "  warnings.warn(message, mplDeprecation, stacklevel=1)\n"
     ]
    },
    {
     "data": {
      "image/png": "[encoded data removed]",
      "text/plain": [
       "<Figure size 432x288 with 1 Axes>"
      ]
     },
     "metadata": {},
     "output_type": "display_data"
    }
   ],
   "source": [
    "import numpy as np\n",
    "\n",
    "# edit_dist=np.zeros([1,10])\n",
    "\n",
    "\n",
    "a=edit_dist[0:,0:].reshape(rows*10)\n",
    "\n",
    "import matplotlib.pyplot as plt \n",
    "plt.hist(a, bins=60)\n",
    "plt.subplot(111)\n",
    "plt.show(),a\n",
    "import cv2\n",
    "# ret2,th2 = cv2.threshold(edit_dist,0,3500,cv2.THRESH_BINARY+cv2.THRESH_OTSU)\n",
    "\n"
   ]
  },
  {
   "cell_type": "code",
   "execution_count": 8,
   "metadata": {},
   "outputs": [
    {
     "name": "stdout",
     "output_type": "stream",
     "text": [
      "1862\n"
     ]
    },
    {
     "data": {
      "text/plain": [
       "0.7664473684210527"
      ]
     },
     "execution_count": 8,
     "metadata": {},
     "output_type": "execute_result"
    }
   ],
   "source": [
    "#find Thrshold:\n",
    "\n",
    "def threshold(array):\n",
    "    array = np.asarray(array)\n",
    "    mean=np.mean(array)\n",
    "    index=(np.abs(array - mean)).argmin()\n",
    "    print(index)\n",
    "    return array[index]\n",
    "\n",
    "thresh_dist=threshold(a)\n",
    "thresh_dist"
   ]
  },
  {
   "cell_type": "code",
   "execution_count": 9,
   "metadata": {},
   "outputs": [
    {
     "data": {
      "text/plain": [
       "2174"
      ]
     },
     "execution_count": 9,
     "metadata": {},
     "output_type": "execute_result"
    },
    {
     "data": {
      "image/png": "[encoded data removed]",
      "text/plain": [
       "<Figure size 432x288 with 1 Axes>"
      ]
     },
     "metadata": {},
     "output_type": "display_data"
    }
   ],
   "source": [
    "#Create Graph\n",
    "import networkx as nx\n",
    "# G=nx.Graph()\n",
    "\n",
    "\n",
    "# for r in reviews[0:100:5]:\n",
    "#     G.add_node(r['reviewerID'])\n",
    "\n",
    "# G.add_edge(1,2)\n",
    "\n",
    "nx.draw(G, with_labels=False, font_weight='light')\n",
    "\n",
    "# list(G.edges())[0],[r['reviewerID'] for r in reviews[0:10]]\n",
    "# reviews[9]['reviewText'],reviews[7]['reviewText']\n",
    "\n",
    "G.number_of_edges()"
   ]
  },
  {
   "cell_type": "code",
   "execution_count": 4,
   "metadata": {},
   "outputs": [],
   "source": []
  },
  {
   "cell_type": "code",
   "execution_count": 12,
   "metadata": {},
   "outputs": [],
   "source": [
    "# import numpy as np\n",
    "# import nltk\n",
    "# from vaderSentiment.vaderSentiment import SentimentIntensityAnalyzer\n",
    "# import time\n",
    "# analyser = SentimentIntensityAnalyzer()\n",
    "\n",
    "# G=nx.Graph()\n",
    "\n",
    "\n",
    "# k=5\n",
    "# epsilon=0.02\n",
    "# rows=int(len(reviews[0:400])/5)\n",
    "# edit_dist=np.zeros([rows,5])\n",
    "\n",
    "\n",
    "# start=time.time()\n",
    "# for r in range(rows):\n",
    "#     i=4\n",
    "#     while(i!=-1):\n",
    "#         for j in range(5):\n",
    "#             if i!=j:\n",
    "#                 sent1=clean(reviews[k+j]['reviewText'])\n",
    "#                 sent2=clean(reviews[k+i]['reviewText'])\n",
    "#                 max_l=max(len(sent1),len(sent2))\n",
    "\n",
    "#                 edit_dist[r][4-i]=nltk.edit_distance(sent1,sent2)/max_l\n",
    "\n",
    "#                 score1 = analyser.polarity_scores(sent1)\n",
    "#                 score2 = analyser.polarity_scores(sent2)\n",
    "#         #             print(score1,score2)\n",
    "#                 if edit_dist[r][4-i]<0.75:\n",
    "#                     if abs(score1['neg']-score2['neg'])==0 or abs(score1['pos']-score2['pos'])==0:\n",
    "# #                         a=data[data.reviewer==reviews[k+i]['reviewerID']]\n",
    "# #                         b=data[data.reviewer==reviews[k+j]['reviewerID']]\n",
    "                        \n",
    "\n",
    "# #                         n_prods=0\n",
    "# #                         for s in a['ProductIDs']:\n",
    "# #                             for t in b['ProductIDs']:\n",
    "# #                                 if s==t:\n",
    "# #                                     n_prods+=1\n",
    "#                         u=reviews[k+i]['reviewerID']\n",
    "#                         v=reviews[k+j]['reviewerID']\n",
    "#                         print(time.time()-start)\n",
    "#                         try:\n",
    "                            \n",
    "#                             G[u][v]['weight']=G[u][v]['weight']+1 \n",
    "# #                         G.add_edge(reviews[k+i]['reviewerID'],reviews[k+j]['reviewerID'],weight=n_prods)\n",
    "#                         except:\n",
    "#                             G.add_edge(u,v,weight=1)\n",
    "\n",
    "#                         print(G[u][v]['weight'])\n",
    "                        \n",
    "#         i-=1\n",
    "#     k+=5\n",
    "            \n",
    "# print(time.time()-start)\n"
   ]
  },
  {
   "cell_type": "code",
   "execution_count": null,
   "metadata": {},
   "outputs": [],
   "source": []
  },
  {
   "cell_type": "code",
   "execution_count": 13,
   "metadata": {},
   "outputs": [
    {
     "data": {
      "text/plain": [
       "2000"
      ]
     },
     "execution_count": 13,
     "metadata": {},
     "output_type": "execute_result"
    }
   ],
   "source": [
    "len(edit_dist)"
   ]
  },
  {
   "cell_type": "code",
   "execution_count": 14,
   "metadata": {},
   "outputs": [
    {
     "name": "stdout",
     "output_type": "stream",
     "text": [
      "average clustering coefficient: 0.40188108392528277\n",
      "average degree distribution: 1.7158642462509865\n",
      "average path length: 1.0929127766477325\n"
     ]
    },
    {
     "data": {
      "text/plain": [
       "(10, 16)"
      ]
     },
     "execution_count": 14,
     "metadata": {},
     "output_type": "execute_result"
    },
    {
     "data": {
      "image/png": "[encoded data removed]",
      "text/plain": [
       "<Figure size 432x288 with 1 Axes>"
      ]
     },
     "metadata": {},
     "output_type": "display_data"
    }
   ],
   "source": [
    "# 4.Global Properties\n",
    "import pydot\n",
    "from networkx.drawing.nx_pydot import graphviz_layout\n",
    "layout = graphviz_layout\n",
    "\n",
    "acc=nx.average_clustering(G)\n",
    "avg_dg=nx.average_degree_connectivity(G)\n",
    "# avg_path_len=nx.average_shortest_path_length(G)\n",
    "\n",
    "\n",
    "pos=layout(G)\n",
    "\n",
    "G0=nx.connected_component_subgraphs(G)\n",
    "G0=sorted(G0, key=len, reverse=True)\n",
    "\n",
    "\n",
    "#avg_path\n",
    "avg_path=0\n",
    "for i,gr in enumerate(G0):\n",
    "    avg_path+=nx.average_shortest_path_length(gr)/len(G0)\n",
    "\n",
    "G1=G0[0]    #Giant Component\n",
    "\n",
    "# plt.subplot(211)\n",
    "# nx.draw_networkx(G1,pos,edge_color='b', with_labels=False)\n",
    "\n",
    "\n",
    "\n",
    "\n",
    "\n",
    "\n",
    "dig_dist=dict(nx.degree(G)).values() #Degree Distribution\n",
    "\n",
    "# plt.hist(dig_dist, bins=100)\n",
    "\n",
    "dig_dist_np=np.asarray(list(dig_dist))\n",
    "avg_dig_dist=np.mean(dig_dist_np)\n",
    "\n",
    "\n",
    "print(\"average clustering coefficient:\",acc)\n",
    "print(\"average degree distribution:\",avg_dig_dist)\n",
    "\n",
    "print(\"average path length:\",avg_path)\n",
    "# print(\"giant component:\",nx.draw_networkx(G1,pos,edge_color='b', with_labels=False))\n",
    "plt.hist(dig_dist, bins=100)\n",
    "plt.title('Degree Distribution')\n",
    "G1.number_of_nodes(),G1.number_of_edges()"
   ]
  },
  {
   "cell_type": "code",
   "execution_count": 18,
   "metadata": {},
   "outputs": [
    {
     "data": {
      "text/plain": [
       "2174"
      ]
     },
     "execution_count": 18,
     "metadata": {},
     "output_type": "execute_result"
    },
    {
     "data": {
      "image/png": "[encoded data removed]",
      "text/plain": [
       "<Figure size 1080x612 with 1 Axes>"
      ]
     },
     "metadata": {},
     "output_type": "display_data"
    }
   ],
   "source": [
    "fig = plt.gcf()\n",
    "fig.set_size_inches(15, 8.5)\n",
    "# plt.hist(dig_dist, bins=100)\n",
    "\n",
    "#plot Giant Component\n",
    "nx.draw_networkx(G1,pos,edge_color='b', with_labels=True)\n",
    "plt.draw()\n",
    "plt.title('Giant Component')\n",
    "G.number_of_edges()"
   ]
  },
  {
   "cell_type": "code",
   "execution_count": 19,
   "metadata": {},
   "outputs": [
    {
     "name": "stdout",
     "output_type": "stream",
     "text": [
      "\n",
      "top 5 degree centrality nodes:\n",
      "\n",
      "[('A32T9TM5F7KHIG', 0.0027635215159889457), ('A2TICS1YPCDLKA', 0.0027635215159889457), ('A3CFH7IL0GL187', 0.0023687327279905248), ('A2YOI67EI4N4D', 0.0023687327279905248), ('A1IGVPJTW1ED3W', 0.0023687327279905248)]\n",
      "\n",
      "top 5 betweenness centrality nodes:\n",
      "\n",
      "[('A2YOI67EI4N4D', 6.392709442312502e-06), ('A2BAKWNFT9N7L5', 6.236789699817075e-06), ('A22QIJY2CB21MV', 5.924950214826221e-06), ('A2VNAGUP6GD6ZW', 5.6131107298353676e-06), ('A291IOKN3QEQNQ', 5.6131107298353676e-06)]\n",
      "\n",
      "top 5 eigenvector centrality nodes:\n",
      "\n",
      "[('A3CFH7IL0GL187', 0.3416899639067221), ('A3GZQJZLSMETLI', 0.3416899639067221), ('A1EAN2SFKYBJ05', 0.2993771591206689), ('AI43VKPN5NF7D', 0.2993771591206689), ('A13HO1F4SW568P', 0.2993771591206689)]\n",
      "\n",
      "top 5 closeness centrality nodes:\n",
      "\n",
      "[('A2TICS1YPCDLKA', 0.002807386936877659), ('A32T9TM5F7KHIG', 0.0027635215159889457), ('A2YOI67EI4N4D', 0.0026648243189893407), ('A291IOKN3QEQNQ', 0.0024598378329132374), ('A1IGVPJTW1ED3W', 0.0024180813264903277)]\n"
     ]
    }
   ],
   "source": [
    "#5.Top 5 centralities\n",
    "#degree\n",
    "# top_degree=sorted(nx.degree_centrality(G).values(), reverse=True)\n",
    "# top_degree=sorted(list(set(top_degree)),reverse=True)\n",
    "\n",
    "\n",
    "import operator\n",
    "print(\"\\ntop 5 degree centrality nodes:\\n\")\n",
    "i=0\n",
    "\n",
    "\n",
    "x = nx.degree_centrality(G)\n",
    "sorted_x = sorted(x.items(), key=operator.itemgetter(1), reverse=True)\n",
    "print(sorted_x[0:5])\n",
    "\n",
    "# for j in range(5):\n",
    "\n",
    "#     for v in nx.degree_centrality(G):\n",
    "#         a=nx.degree_centrality(G)[v]\n",
    "#         if i!=5:\n",
    "#             if a==top_degree[j]:\n",
    "#                 print(v,a)\n",
    "#                 i+=1\n",
    "        \n",
    "       \n",
    "    \n",
    "\n",
    "# top_bet=sorted(nx.betweenness_centrality(G).values(),reverse=True)\n",
    "# top_bet=sorted(list(set(top_bet)), reverse=True)\n",
    "\n",
    "print(\"\\ntop 5 betweenness centrality nodes:\\n\")\n",
    "i=0\n",
    "x = nx.betweenness_centrality(G)\n",
    "sorted_x = sorted(x.items(), key=operator.itemgetter(1), reverse=True)\n",
    "print(sorted_x[0:5])\n",
    "\n",
    "# for j in range(5):\n",
    "\n",
    "#     for v in nx.betweenness_centrality(G):\n",
    "#         a=nx.betweenness_centrality(G)[v]\n",
    "#         if i!=5:\n",
    "#             if a==top_bet[j]:\n",
    "#                 i+=1\n",
    "#                 print(v,a)\n",
    "            \n",
    "            \n",
    "\n",
    "\n",
    "# top_eig=sorted(nx.eigenvector_centrality(G).values(),reverse=True)\n",
    "# top_eig=sorted(list(set(top_eig)),reverse=True)\n",
    "print(\"\\ntop 5 eigenvector centrality nodes:\\n\")\n",
    "i=0\n",
    "\n",
    "x = nx.eigenvector_centrality(G,max_iter=1000)\n",
    "sorted_x = sorted(x.items(), key=operator.itemgetter(1), reverse=True)\n",
    "print(sorted_x[0:5])\n",
    "\n",
    "\n",
    "# for j in range(5):\n",
    "#     for v in nx.eigenvector_centrality(G):\n",
    "\n",
    "#         a=nx.eigenvector_centrality(G)[v]\n",
    "#         if i!=5:\n",
    "#             if a==top_eig[j]:\n",
    "#                 i+=1\n",
    "#                 print(v,a)\n",
    "\n",
    "top_close=sorted(nx.closeness_centrality(G).values(),reverse=True)\n",
    "# top_close=sorted(list(set(top_close)),reverse=True)\n",
    "\n",
    "print(\"\\ntop 5 closeness centrality nodes:\\n\")\n",
    "i=0\n",
    "\n",
    "# for j in range(5):\n",
    "#     for v in nx.closeness_centrality(G):\n",
    "#         a=nx.closeness_centrality(G)[v]\n",
    "#         if i!=5:\n",
    "#             if a==top_close[j]:\n",
    "#                 i+=1\n",
    "#                 print(v,a)\n",
    "                \n",
    "\n",
    "x = nx.closeness_centrality(G)\n",
    "sorted_x = sorted(x.items(), key=operator.itemgetter(1), reverse=True)\n",
    "print(sorted_x[0:5])            \n",
    "        \n"
   ]
  },
  {
   "cell_type": "code",
   "execution_count": 20,
   "metadata": {},
   "outputs": [
    {
     "name": "stdout",
     "output_type": "stream",
     "text": [
      "\n",
      "Needed a shorter cable to hook things up around the TV to a router.  Cable is good quality and works perfectly fine. \n",
      "ProductID B00000J1V5\n",
      "\n",
      "Needed a short CAT5 cable to hook up a TV from a router and this fit the bill perfectly.  Cable is good quality and works perfectly fine. \n",
      "ProductID B00000JDF5\n",
      "\n",
      "I've used these labels to do my filing. It's a lot neater and easier to read my files. It's the way to go. \n",
      "ProductID B00000K135\n",
      "\n",
      "I've been using this method of labeling for quite some time now and I find that it's alot neater than wriring. \n",
      "ProductID B00000K13L\n",
      "Monster surge protectors and power strips are excellent and offer plenty of outlet space.  Bought three for my home office and they are doing the job with ease.  I absolutely would recommend them to anyone. \n",
      "ProductID B00003CWDH\n",
      "These were on sale and obviously they are top notch.  I bought three of them for my office, and they are excellent surge protectors and power strips.  I definitely would gladly recommend these. \n",
      "ProductID B00003CWDK\n"
     ]
    }
   ],
   "source": [
    "# Get out the reviews:\n",
    "# A24VVE3E7D4GVQ\n",
    "k=0\n",
    "for r in range(10000):\n",
    "    if reviews[k]['reviewerID']=='A2TICS1YPCDLKA':\n",
    "        \n",
    "        print(reviews[k]['reviewText'],'\\nProductID '+reviews[k]['asin'])\n",
    "    \n",
    "    if reviews[k]['reviewerID']=='A32T9TM5F7KHIG':\n",
    "        \n",
    "        print('\\n'+reviews[k]['reviewText'],'\\nProductID '+reviews[k]['asin'])\n",
    "        \n",
    "    if reviews[k]['reviewerID']=='A2YOI67EI4N4D':\n",
    "        \n",
    "        print('\\n'+reviews[k]['reviewText'],'\\nProductID '+reviews[k]['asin'])\n",
    "        \n",
    "        \n",
    "    k+=1\n"
   ]
  },
  {
   "cell_type": "code",
   "execution_count": 27,
   "metadata": {},
   "outputs": [
    {
     "data": {
      "text/plain": [
       "2872"
      ]
     },
     "execution_count": 27,
     "metadata": {},
     "output_type": "execute_result"
    },
    {
     "data": {
      "image/png": "[encoded data removed]",
      "text/plain": [
       "<Figure size 432x288 with 1 Axes>"
      ]
     },
     "metadata": {},
     "output_type": "display_data"
    }
   ],
   "source": [
    "#6 Communities\n",
    "from networkx.algorithms import community\n",
    "\n",
    "\n",
    "\n",
    "communities_generator = community.girvan_newman(G)\n",
    "# nx.draw_networkx(communities_generator)\n",
    "next_level_communities = next(communities_generator)\n",
    "c=list(map(sorted, next_level_communities))\n",
    "\n",
    "F=nx.Graph()\n",
    "# F.add_nodes_from(c)\n",
    "for n in c:\n",
    "    for i in range(len(n)):\n",
    "        for j in range(len(n)):\n",
    "            if i!=j:\n",
    "                F.add_edge(n[i],n[j])\n",
    "\n",
    "nx.draw(F,with_labels=False)\n",
    "F.number_of_edges()\n"
   ]
  },
  {
   "cell_type": "code",
   "execution_count": 39,
   "metadata": {},
   "outputs": [
    {
     "name": "stdout",
     "output_type": "stream",
     "text": [
      "Once you see the price of these in stores you will appreciate the great prices here. Ordered two of these and they work great and the snagless feature is a real plus. Ordered two more to keep for back up. The different colors are nice also for identifying different computers or whatever you are using. \n",
      "ProductID B00000J1V5 ALC8I6BZ0QDJE\n",
      "\n",
      "Not much to say about ethernet cables. I wanted a mix of different sizes as I rearranged my office, and it was easy to find on Amazon.com. \n",
      "ProductID B00000J1V5 A291IOKN3QEQNQ\n",
      "\n",
      "Needed a shorter cable to hook things up around the TV to a router.  Cable is good quality and works perfectly fine. \n",
      "ProductID B00000J1V5 A2YOI67EI4N4D\n",
      "\n",
      "They are inexpensive, flexible, and work just fine.  I'm just using them in mundane applications.  Don't know how they'd work in high speed applications. \n",
      "ProductID B00000J1V5 A2S2PG1LKF4YCX\n",
      "\n",
      "Good qualtiy with well-designed connectors.  Extremely useful for short-disstance connections between router and other equipment.Purchased three cables.  Very satisfied! \n",
      "ProductID B00000JDF5 A2VZ43530IHTJU\n",
      "\n",
      "It is nice to have color coded cables in order to keep track of what goes where. I recently rewired my office and have now color-coded everything, and it is making things MUCH easier. It's nice to know the external network drive is purple, and the networked printer is yellow, etc... \n",
      "ProductID B00000JDF5 A1K2Q0OI20VB24\n",
      "\n",
      "Im very happy with these cables, I used them for connecting my home theatre to the net via a switch I installed in my entertainment center. The wires are made of high quality materials and seem to be working great so far. \n",
      "ProductID B00000JDF5 A2HYEGYQXWXCJX\n",
      "\n",
      "Inexpensive, but seems to be of good quality. I was looking for a mix of different length cables, and these 3-footers fit the bill for some short patch cables into my ethernet switch, keeping all my devices happy! Good service from Amazon. \n",
      "ProductID B00000JDF5 A291IOKN3QEQNQ\n",
      "\n",
      "This ethernet cable is the perfect length to connect my surround sound receiver to my home network. It works perfectly and is much less expensive than any offerings from local stores. \n",
      "ProductID B00000JDF5 A3ERS94QZJJ9EP\n",
      "\n",
      "Needed a short CAT5 cable to hook up a TV from a router and this fit the bill perfectly.  Cable is good quality and works perfectly fine. \n",
      "ProductID B00000JDF5 A2YOI67EI4N4D\n",
      "\n",
      "very nice set of wires, i love my purchase. better then the ones you buy in 99c. stores. i bought 5 of them. \n",
      "ProductID B00000JDF5 A439RDKQQIYR3\n",
      "\n",
      "I really thought about buying a crimper, cable, and ends but after adding up the cost it was cheaper to just buy premade cables since I didn't need very many. This cable works fine for my needs. \n",
      "ProductID B00000JDF5 A1FZZV7MKUE0MK\n",
      "\n"
     ]
    }
   ],
   "source": [
    "from networkx.algorithms.community import greedy_modularity_communities\n",
    "\n",
    "communities = list(greedy_modularity_communities(G))\n",
    "greedy=list(sorted(communities))\n",
    "k=0\n",
    "for r in range(10000):\n",
    "    for name in list(greedy[0]):\n",
    "    \n",
    "        if reviews[k]['reviewerID']==name:\n",
    "        \n",
    "            print(reviews[k]['reviewText'],'\\nProductID '+reviews[k]['asin'], name+'\\n')\n",
    "    k+=1"
   ]
  },
  {
   "cell_type": "code",
   "execution_count": 28,
   "metadata": {},
   "outputs": [
    {
     "data": {
      "text/plain": [
       "['A1EDI0X3GI1SK7', 'A3UOSOCRKS3WIH', 'AVRFGGCCCR6QU']"
      ]
     },
     "execution_count": 28,
     "metadata": {},
     "output_type": "execute_result"
    }
   ],
   "source": [
    "sorted(c[0])"
   ]
  },
  {
   "cell_type": "code",
   "execution_count": 35,
   "metadata": {},
   "outputs": [
    {
     "name": "stdout",
     "output_type": "stream",
     "text": [
      "I have an old model P-Touch but it works excellent. I've had it for many years and have never had a problem with it. Glad to still be able to find tape cartridges. \n",
      "ProductID B00000K135 A2MXK2BL6EFOPR\n",
      "i have a PT-65 and works great - the tape i received is a genuine Brother product.products like these keep you on top of your GTD implementation! \n",
      "ProductID B00000K135 A38WZ0ITR34AFN\n",
      "Works great.  Make sure you have the correct size - there are at least 2 different size tapes (M & TZ) and they are not interchangeable. \n",
      "ProductID B00000K135 A4ZGPH50QWA1F\n",
      "love this and the silver refills  i see alot of reorders in the future!!! \n",
      "ProductID B00000K135 A3GZQJZLSMETLI\n",
      "Brother has hit a home run with their labeling tape systems.I used to spin the old Dynamo labeler to make labels but nomore. \n",
      "ProductID B00000K135 A4RASGC2BYMD5\n",
      "this is the color and refills i will always reorder it makes the disc look so professional when you mark a disc with it!!!!!! love it!! \n",
      "ProductID B00000K13L A3GZQJZLSMETLI\n"
     ]
    }
   ],
   "source": [
    "# K Clique \n",
    "from networkx.algorithms.community import k_clique_communities\n",
    "\n",
    "k_clic=list(k_clique_communities(G, 5))\n",
    "k=0\n",
    "for r in range(10000):\n",
    "    for name in list(k_clic[0]):\n",
    "    \n",
    "        if reviews[k]['reviewerID']==name:\n",
    "        \n",
    "            print(reviews[k]['reviewText'],'\\nProductID '+reviews[k]['asin'], name)\n",
    "    k+=1\n"
   ]
  },
  {
   "cell_type": "code",
   "execution_count": 23,
   "metadata": {},
   "outputs": [],
   "source": [
    "ratings = pd.read_csv('ratings_Electronics.csv', sep = ',',header=None, index_col = False, names=['0','1','2','3'])"
   ]
  },
  {
   "cell_type": "code",
   "execution_count": 24,
   "metadata": {},
   "outputs": [],
   "source": [
    "data=pd.DataFrame()\n",
    "data['ratings']=ratings['2']\n",
    "data['ProductIDs']=ratings['1']\n",
    "data['reviewer']=ratings['0']\n",
    "data['Timex']=ratings['3']\n"
   ]
  },
  {
   "cell_type": "code",
   "execution_count": 25,
   "metadata": {},
   "outputs": [
    {
     "ename": "NameError",
     "evalue": "name 'communities' is not defined",
     "output_type": "error",
     "traceback": [
      "\u001b[0;31m---------------------------------------------------------------------------\u001b[0m",
      "\u001b[0;31mNameError\u001b[0m                                 Traceback (most recent call last)",
      "\u001b[0;32m<ipython-input-25-f7b7041baa57>\u001b[0m in \u001b[0;36m<module>\u001b[0;34m()\u001b[0m\n\u001b[1;32m      3\u001b[0m \u001b[0mb\u001b[0m\u001b[0;34m=\u001b[0m\u001b[0mdata\u001b[0m\u001b[0;34m.\u001b[0m\u001b[0mquery\u001b[0m\u001b[0;34m(\u001b[0m\u001b[0;34m'reviewer==\"A1K2Q0OI20VB24\"'\u001b[0m\u001b[0;34m)\u001b[0m\u001b[0;34m\u001b[0m\u001b[0m\n\u001b[1;32m      4\u001b[0m \u001b[0;34m\u001b[0m\u001b[0m\n\u001b[0;32m----> 5\u001b[0;31m \u001b[0;32mfor\u001b[0m \u001b[0mname\u001b[0m \u001b[0;32min\u001b[0m \u001b[0msorted\u001b[0m\u001b[0;34m(\u001b[0m\u001b[0mcommunities\u001b[0m\u001b[0;34m[\u001b[0m\u001b[0;36m0\u001b[0m\u001b[0;34m]\u001b[0m\u001b[0;34m)\u001b[0m\u001b[0;34m:\u001b[0m\u001b[0;34m\u001b[0m\u001b[0m\n\u001b[0m\u001b[1;32m      6\u001b[0m     \u001b[0mprint\u001b[0m\u001b[0;34m(\u001b[0m\u001b[0mdata\u001b[0m\u001b[0;34m[\u001b[0m\u001b[0mdata\u001b[0m\u001b[0;34m.\u001b[0m\u001b[0mreviewer\u001b[0m\u001b[0;34m==\u001b[0m\u001b[0mname\u001b[0m\u001b[0;34m]\u001b[0m\u001b[0;34m)\u001b[0m\u001b[0;34m\u001b[0m\u001b[0m\n\u001b[1;32m      7\u001b[0m \u001b[0;31m# n_prods=0\u001b[0m\u001b[0;34m\u001b[0m\u001b[0;34m\u001b[0m\u001b[0m\n",
      "\u001b[0;31mNameError\u001b[0m: name 'communities' is not defined"
     ]
    }
   ],
   "source": [
    "# data.query('ProductIDs==\"0511189877\"')\n",
    "a=data.query('reviewer==\"A1FZZV7MKUE0MK\"')\n",
    "b=data.query('reviewer==\"A1K2Q0OI20VB24\"')\n",
    "\n",
    "for name in sorted(communities[0]):\n",
    "    print(data[data.reviewer==name])\n",
    "# n_prods=0\n",
    "# for s in a['ProductIDs']:\n",
    "#     for k in b['ProductIDs']:\n",
    "#         if s==k:\n",
    "#             n_prods+=1\n"
   ]
  },
  {
   "cell_type": "code",
   "execution_count": 362,
   "metadata": {},
   "outputs": [
    {
     "data": {
      "text/plain": [
       "1"
      ]
     },
     "execution_count": 362,
     "metadata": {},
     "output_type": "execute_result"
    }
   ],
   "source": [
    "n_prods"
   ]
  },
  {
   "cell_type": "code",
   "execution_count": 327,
   "metadata": {},
   "outputs": [],
   "source": [
    "name='AKM1MP6P0OYPR'"
   ]
  },
  {
   "cell_type": "code",
   "execution_count": 330,
   "metadata": {},
   "outputs": [
    {
     "data": {
      "text/html": [
       "<div>\n",
       "<style scoped>\n",
       "    .dataframe tbody tr th:only-of-type {\n",
       "        vertical-align: middle;\n",
       "    }\n",
       "\n",
       "    .dataframe tbody tr th {\n",
       "        vertical-align: top;\n",
       "    }\n",
       "\n",
       "    .dataframe thead th {\n",
       "        text-align: right;\n",
       "    }\n",
       "</style>\n",
       "<table border=\"1\" class=\"dataframe\">\n",
       "  <thead>\n",
       "    <tr style=\"text-align: right;\">\n",
       "      <th></th>\n",
       "      <th>ratings</th>\n",
       "      <th>ProductIDs</th>\n",
       "      <th>reviewer</th>\n",
       "      <th>Timex</th>\n",
       "    </tr>\n",
       "  </thead>\n",
       "  <tbody>\n",
       "    <tr>\n",
       "      <th>0</th>\n",
       "      <td>5.0</td>\n",
       "      <td>0132793040</td>\n",
       "      <td>AKM1MP6P0OYPR</td>\n",
       "      <td>1365811200</td>\n",
       "    </tr>\n",
       "    <tr>\n",
       "      <th>5200191</th>\n",
       "      <td>5.0</td>\n",
       "      <td>B005UEB5TQ</td>\n",
       "      <td>AKM1MP6P0OYPR</td>\n",
       "      <td>1366243200</td>\n",
       "    </tr>\n",
       "  </tbody>\n",
       "</table>\n",
       "</div>"
      ],
      "text/plain": [
       "         ratings  ProductIDs       reviewer       Timex\n",
       "0            5.0  0132793040  AKM1MP6P0OYPR  1365811200\n",
       "5200191      5.0  B005UEB5TQ  AKM1MP6P0OYPR  1366243200"
      ]
     },
     "execution_count": 330,
     "metadata": {},
     "output_type": "execute_result"
    }
   ],
   "source": [
    "data[data.reviewer==name]"
   ]
  }
 ],
 "metadata": {
  "kernelspec": {
   "display_name": "Python 3",
   "language": "python",
   "name": "python3"
  },
  "language_info": {
   "codemirror_mode": {
    "name": "ipython",
    "version": 3
   },
   "file_extension": ".py",
   "mimetype": "text/x-python",
   "name": "python",
   "nbconvert_exporter": "python",
   "pygments_lexer": "ipython3",
   "version": "3.6.5"
  }
 },
 "nbformat": 4,
 "nbformat_minor": 2
}
